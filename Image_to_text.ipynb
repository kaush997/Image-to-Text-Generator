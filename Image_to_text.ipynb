{
  "nbformat": 4,
  "nbformat_minor": 0,
  "metadata": {
    "colab": {
      "provenance": []
    },
    "kernelspec": {
      "name": "python3",
      "display_name": "Python 3"
    },
    "language_info": {
      "name": "python"
    }
  },
  "cells": [
    {
      "cell_type": "code",
      "source": [
        "!pip install pytesseract\n",
        "!apt install tesseract-ocr\n",
        "!apt install libtesseract-dev\n",
        "!pip install tesseract"
      ],
      "metadata": {
        "colab": {
          "base_uri": "https://localhost:8080/"
        },
        "id": "7yyFFhG0VeSn",
        "outputId": "89f5bb53-7c61-42c7-87a0-a1176b837150"
      },
      "execution_count": 6,
      "outputs": [
        {
          "output_type": "stream",
          "name": "stdout",
          "text": [
            "Requirement already satisfied: pytesseract in /usr/local/lib/python3.10/dist-packages (0.3.10)\n",
            "Requirement already satisfied: packaging>=21.3 in /usr/local/lib/python3.10/dist-packages (from pytesseract) (24.1)\n",
            "Requirement already satisfied: Pillow>=8.0.0 in /usr/local/lib/python3.10/dist-packages (from pytesseract) (9.4.0)\n",
            "Reading package lists... Done\n",
            "Building dependency tree... Done\n",
            "Reading state information... Done\n",
            "tesseract-ocr is already the newest version (4.1.1-2.1build1).\n",
            "0 upgraded, 0 newly installed, 0 to remove and 45 not upgraded.\n",
            "Reading package lists... Done\n",
            "Building dependency tree... Done\n",
            "Reading state information... Done\n",
            "libtesseract-dev is already the newest version (4.1.1-2.1build1).\n",
            "0 upgraded, 0 newly installed, 0 to remove and 45 not upgraded.\n",
            "Requirement already satisfied: tesseract in /usr/local/lib/python3.10/dist-packages (0.1.3)\n"
          ]
        }
      ]
    },
    {
      "cell_type": "code",
      "source": [
        "import pytesseract\n",
        "import cv2\n",
        "import numpy as np\n",
        "\n",
        "# Mount Google Drive to access files\n",
        "from google.colab import drive\n",
        "drive.mount('/content/drive')\n",
        "\n",
        "# Load the PNG image file from Google Drive\n",
        "image_path = '/content/drive/My Drive/sample.png'\n",
        "\n",
        "# Load the image using OpenCV\n",
        "img = cv2.imread(image_path)\n",
        "\n",
        "# Check if the image is loaded successfully\n",
        "if img is None:\n",
        "    print(\"Error: Image not loaded. Please check the image path.\")\n",
        "else:\n",
        "    # Convert the image to RGB (OpenCV uses BGR by default)\n",
        "    img_rgb = cv2.cvtColor(img, cv2.COLOR_BGR2RGB)\n",
        "\n",
        "    # Use pytesseract to extract text from the RGB image\n",
        "    extracted_text = pytesseract.image_to_string(img_rgb)\n",
        "\n",
        "    # Print the extracted text\n",
        "    print(extracted_text)"
      ],
      "metadata": {
        "colab": {
          "base_uri": "https://localhost:8080/"
        },
        "id": "B9gCZeT5VoCK",
        "outputId": "2a3daf7b-c991-4ad8-a204-7fd645201d53"
      },
      "execution_count": 10,
      "outputs": [
        {
          "output_type": "stream",
          "name": "stdout",
          "text": [
            "Mounted at /content/drive\n",
            "Implications of using GenAl\n",
            "\n",
            "Perspectives from Higher Educational Institutes\n",
            "*Should give credit to LLMs whenever they are used\n",
            "\n",
            "*Include in an appendix the entire exchange(s) with the LLM,\n",
            "highlighting the most relevant sections\n",
            "\n",
            "*Should write a narrative at the beginning of the appendix explaining\n",
            "precisely how and why the LLMs are used\n",
            "\n",
            "*Use LLMs wisely and intelligently, aiming to deepen grasp of the\n",
            "subject matter and to support learning\n",
            "\f\n"
          ]
        }
      ]
    },
    {
      "cell_type": "code",
      "source": [],
      "metadata": {
        "id": "VqsBfYaPVwJo"
      },
      "execution_count": null,
      "outputs": []
    }
  ]
}